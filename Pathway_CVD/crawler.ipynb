{
 "cells": [
  {
   "cell_type": "code",
   "execution_count": 1,
   "metadata": {},
   "outputs": [],
   "source": [
    "import urllib.request\n",
    "import urllib\n",
    "import re\n",
    "import pandas as pd\n",
    "import math\n",
    "import numpy as np"
   ]
  },
  {
   "cell_type": "code",
   "execution_count": 3,
   "metadata": {},
   "outputs": [],
   "source": [
    "CVDfile = './cvd.csv'\n",
    "df = pd.read_csv(CVDfile)"
   ]
  },
  {
   "cell_type": "code",
   "execution_count": 4,
   "metadata": {
    "scrolled": true
   },
   "outputs": [
    {
     "name": "stdout",
     "output_type": "stream",
     "text": [
      "255\n"
     ]
    }
   ],
   "source": [
    "df.head()\n",
    "meshDes = []\n",
    "mesh = []\n",
    "for i in df['name']:\n",
    "    #print(i)\n",
    "    name = i.split()[0]\n",
    "    name = name.split(',')[0]\n",
    "    meshDes.append(name)\n",
    "for i in meshDes:\n",
    "    if i not in mesh:\n",
    "        mesh.append(i)\n",
    "print(len(mesh))"
   ]
  },
  {
   "cell_type": "code",
   "execution_count": 5,
   "metadata": {},
   "outputs": [],
   "source": [
    "mesh = []\n",
    "temp = pd.read_csv('./filterMesh.csv')\n",
    "for i in temp['0']:\n",
    "    mesh.append(i)"
   ]
  },
  {
   "cell_type": "code",
   "execution_count": 6,
   "metadata": {},
   "outputs": [
    {
     "data": {
      "text/plain": [
       "420"
      ]
     },
     "execution_count": 6,
     "metadata": {},
     "output_type": "execute_result"
    }
   ],
   "source": [
    "len(mesh)"
   ]
  },
  {
   "cell_type": "code",
   "execution_count": 7,
   "metadata": {},
   "outputs": [],
   "source": [
    "urls = []\n",
    "for i in mesh:\n",
    "    url = \"https://reactome.org/content/query?q=\" + i + \"&species=Homo+sapiens&types=Pathway&cluster=true\"\n",
    "    #print(url)\n",
    "    urls.append(url)"
   ]
  },
  {
   "cell_type": "code",
   "execution_count": 8,
   "metadata": {},
   "outputs": [
    {
     "data": {
      "text/plain": [
       "{'Cardiovascular': ['1', '2'], 'Abnormalities': ['1', '2']}"
      ]
     },
     "execution_count": 8,
     "metadata": {},
     "output_type": "execute_result"
    }
   ],
   "source": [
    "dic = {}\n",
    "l = ['1', '2']\n",
    "dic[mesh[0]] = l\n",
    "dic[mesh[1]] = l\n",
    "dic\n"
   ]
  },
  {
   "cell_type": "code",
   "execution_count": 9,
   "metadata": {},
   "outputs": [
    {
     "data": {
      "text/plain": [
       "420"
      ]
     },
     "execution_count": 9,
     "metadata": {},
     "output_type": "execute_result"
    }
   ],
   "source": [
    "len(urls)"
   ]
  },
  {
   "cell_type": "markdown",
   "metadata": {},
   "source": [
    "## Find the whole number of the results"
   ]
  },
  {
   "cell_type": "code",
   "execution_count": 10,
   "metadata": {
    "collapsed": true
   },
   "outputs": [
    {
     "name": "stdout",
     "output_type": "stream",
     "text": [
      "Cardiovascular  is successful!\n",
      "Abnormalities  is successful!\n",
      "Heart  is successful!\n",
      "22q11  is successful!\n",
      "DiGeorge  is successful!\n",
      "Alagille  is successful!\n",
      "Aortic  is successful!\n",
      "Coarctation is failed!\n",
      "Arrhythmogenic is failed!\n",
      "Ventricular  is successful!\n",
      "Dysplasia  is successful!\n",
      "Cor  is successful!\n",
      "Triatriatum is failed!\n",
      "Coronary  is successful!\n",
      "Vessel  is successful!\n",
      "Anomalies  is successful!\n",
      "Anomalous  is successful!\n",
      "Left  is successful!\n",
      "Artery  is successful!\n",
      "Bland  is successful!\n",
      "White  is successful!\n",
      "Garland  is successful!\n",
      "Myocardial  is successful!\n",
      "Bridging  is successful!\n",
      "Crisscross is failed!\n",
      "Dextrocardia is failed!\n",
      "Kartagener is failed!\n",
      "Ductus is failed!\n",
      "Arteriosus is failed!\n",
      "Patent is failed!\n",
      "Ebstein  is successful!\n",
      "Anomaly  is successful!\n",
      "Ectopia  is successful!\n",
      "Cordis is failed!\n",
      "Eisenmenger is failed!\n",
      "Septal is failed!\n",
      "Aortopulmonary is failed!\n",
      "Truncus is failed!\n",
      "Persistent  is successful!\n",
      "Endocardial is failed!\n",
      "Cushion is failed!\n",
      "Atrial  is successful!\n",
      "Foramen is failed!\n",
      "Lutembacher is failed!\n",
      "Heterotaxy  is successful!\n",
      "Hypoplastic  is successful!\n",
      "Noncompaction is failed!\n",
      "Myocardium  is successful!\n",
      "LEOPARD  is successful!\n",
      "Levocardia is failed!\n",
      "Marfan  is successful!\n",
      "Tetralogy is failed!\n",
      "Fallot is failed!\n",
      "Transposition  is successful!\n",
      "Vessels  is successful!\n",
      "Congenitally  is successful!\n",
      "Corrected  is successful!\n",
      "Arteries  is successful!\n",
      "Outlet is failed!\n",
      "Ventricle is failed!\n",
      "Tricuspid is failed!\n",
      "Atresia is failed!\n",
      "Trilogy is failed!\n",
      "Trisomy is failed!\n",
      "Turner  is successful!\n",
      "Univentricular is failed!\n",
      "Vascular  is successful!\n",
      "Malformations  is successful!\n",
      "Arteriovenous is failed!\n",
      "Fistula is failed!\n",
      "Carotid-Cavernous  is successful!\n",
      "Sinus  is successful!\n",
      "Intracranial  is successful!\n",
      "Vein  is successful!\n",
      "Galen is failed!\n",
      "Central  is successful!\n",
      "Nervous  is successful!\n",
      "Venous  is successful!\n",
      "Angioma is failed!\n",
      "Hemangioma is failed!\n",
      "Cavernous  is successful!\n",
      "Pericranii is failed!\n",
      "May-Thurner  is successful!\n",
      "Ligament  is successful!\n",
      "Pulmonary  is successful!\n",
      "Scimitar is failed!\n",
      "Umbilical  is successful!\n",
      "Arterio-Arterial  is successful!\n",
      "Ring  is successful!\n",
      "Infections  is successful!\n",
      "Endocarditis is failed!\n",
      "Bacterial  is successful!\n",
      "Subacute  is successful!\n",
      "Syphilis is failed!\n",
      "Tuberculosis  is successful!\n",
      "Pericarditis  is successful!\n",
      "Tuberculous  is successful!\n",
      "Arrhythmias  is successful!\n",
      "Cardiac  is successful!\n",
      "Arrhythmia  is successful!\n",
      "Fibrillation  is successful!\n",
      "Flutter  is successful!\n",
      "Bradycardia  is successful!\n",
      "Brugada is failed!\n",
      "Complexes  is successful!\n",
      "Premature  is successful!\n",
      "Complexes  is successful!\n",
      "Commotio is failed!\n",
      "Block  is successful!\n",
      "Adams-Stokes  is successful!\n",
      "Atrioventricular  is successful!\n",
      "Bundle-Branch  is successful!\n",
      "Interatrial is failed!\n",
      "Sinoatrial  is successful!\n",
      "Andersen  is successful!\n",
      "Jervell-Lange  is successful!\n",
      "Nielsen  is successful!\n",
      "Romano-Ward  is successful!\n",
      "Parasystole is failed!\n",
      "Pre-Excitation  is successful!\n",
      "Syndromes  is successful!\n",
      "Lown-Ganong-Levine  is successful!\n",
      "Pre-Excitation  is successful!\n",
      "Mahaim-Type  is successful!\n",
      "Wolff-Parkinson-White  is successful!\n",
      "Tachycardia  is successful!\n",
      "Tachycardia  is successful!\n",
      "Paroxysmal  is successful!\n",
      "Reciprocating is failed!\n",
      "Nodal  is successful!\n",
      "Reentry  is successful!\n",
      "Supraventricular is failed!\n",
      "Ectopic  is successful!\n",
      "Junctional  is successful!\n",
      "Accelerated  is successful!\n",
      "Idioventricular is failed!\n",
      "Rhythm  is successful!\n",
      "Torsades is failed!\n",
      "Pointes  is successful!\n",
      "Carcinoid is failed!\n",
      "Conduction  is successful!\n",
      "Tamponade is failed!\n",
      "Cardiomegaly  is successful!\n",
      "Cardiomyopathy  is successful!\n",
      "Dilated  is successful!\n",
      "Hypertrophy  is successful!\n",
      "Cardiomyopathies  is successful!\n",
      "Alcoholic  is successful!\n",
      "Hypertrophic  is successful!\n",
      "Hypertrophic  is successful!\n",
      "Familial  is successful!\n",
      "Restrictive  is successful!\n",
      "Chagas is failed!\n",
      "Cardiomyopathy  is successful!\n",
      "Diabetic  is successful!\n",
      "Fibroelastosis is failed!\n",
      "Endomyocardial is failed!\n",
      "Fibrosis  is successful!\n",
      "Glycogen  is successful!\n",
      "Storage  is successful!\n",
      "Kearns-Sayre is failed!\n",
      "Reperfusion  is successful!\n",
      "Myocarditis  is successful!\n",
      "Sarcoglycanopathies is failed!\n",
      "Cardiotoxicity  is successful!\n",
      "Endocarditis is failed!\n",
      "Aneurysm  is successful!\n",
      "Karoshi is failed!\n",
      "Out-of-Hospital  is successful!\n",
      "Cardio-Renal  is successful!\n",
      "Dyspnea is failed!\n",
      "Edema  is successful!\n",
      "Diastolic  is successful!\n",
      "Systolic  is successful!\n",
      "Neoplasms  is successful!\n",
      "Carney  is successful!\n",
      "Rupture  is successful!\n",
      "Post-Infarction  is successful!\n",
      "Valve  is successful!\n",
      "Insufficiency  is successful!\n",
      "Stenosis is failed!\n",
      "Subvalvular is failed!\n",
      "Subaortic is failed!\n",
      "Supravalvular is failed!\n",
      "Williams  is successful!\n",
      "Prolapse  is successful!\n",
      "Mitral  is successful!\n",
      "Ischemia  is successful!\n",
      "Angina  is successful!\n",
      "Pectoris  is successful!\n",
      "Angina  is successful!\n",
      "Unstable  is successful!\n",
      "Pectoris  is successful!\n",
      "Variant  is successful!\n",
      "Microvascular  is successful!\n",
      "Occlusion is failed!\n",
      "Restenosis  is successful!\n",
      "Thrombosis  is successful!\n",
      "Vasospasm  is successful!\n",
      "Coronary-Subclavian  is successful!\n",
      "Kounis is failed!\n",
      "Infarction  is successful!\n",
      "Anterior  is successful!\n",
      "Inferior is failed!\n",
      "Elevated  is successful!\n",
      "Shock  is successful!\n",
      "Cardiogenic is failed!\n",
      "Elevation  is successful!\n",
      "Stunning is failed!\n",
      "Pericardial  is successful!\n",
      "Effusion is failed!\n",
      "Pericarditis  is successful!\n",
      "Constrictive is failed!\n",
      "Pneumopericardium is failed!\n",
      "Post-Cardiac  is successful!\n",
      "Postpericardiotomy is failed!\n",
      "Rheumatic  is successful!\n",
      "Dysfunction  is successful!\n",
      "Dysfunction  is successful!\n",
      "Takotsubo is failed!\n",
      "Outflow is failed!\n",
      "Obstruction is failed!\n",
      "Pregnancy  is successful!\n",
      "Complications  is successful!\n",
      "Embolism  is successful!\n",
      "Amniotic  is successful!\n",
      "Fluid  is successful!\n",
      "Aneurysm  is successful!\n",
      "Carotid  is successful!\n",
      "Artery  is successful!\n",
      "Internal  is successful!\n",
      "Dissection  is successful!\n",
      "Loeys-Dietz  is successful!\n",
      "Vertebral  is successful!\n",
      "Infected  is successful!\n",
      "Ruptured is failed!\n",
      "Abdominal  is successful!\n",
      "Thoracic  is successful!\n",
      "Endoleak is failed!\n",
      "Iliac is failed!\n",
      "Microaneurysm is failed!\n",
      "Retinal  is successful!\n",
      "Arterial  is successful!\n",
      "Macroaneurysm is failed!\n",
      "Angiodysplasia is failed!\n",
      "Gastric  is successful!\n",
      "Antral is failed!\n",
      "Ectasia is failed!\n",
      "Angiomatosis is failed!\n",
      "Angiomatosis is failed!\n",
      "Bacillary  is successful!\n",
      "Klippel-Trenaunay-Weber  is successful!\n",
      "Sturge-Weber  is successful!\n",
      "Hippel-Lindau  is successful!\n",
      "Angioedema  is successful!\n",
      "Angioedemas  is successful!\n",
      "Hereditary  is successful!\n",
      "Arch  is successful!\n",
      "Takayasu  is successful!\n",
      "Arteritis  is successful!\n",
      "Aortitis is failed!\n",
      "Leriche is failed!\n",
      "Occlusive is failed!\n",
      "Arteriosclerosis  is successful!\n",
      "Arteriolosclerosis is failed!\n",
      "Obliterans is failed!\n",
      "Atherosclerosis  is successful!\n",
      "Peripheral  is successful!\n",
      "Dementia  is successful!\n",
      "Intermittent  is successful!\n",
      "Claudication is failed!\n",
      "Fibromuscular is failed!\n",
      "Malignant  is successful!\n",
      "Atrophic  is successful!\n",
      "Papulosis is failed!\n",
      "Mesenteric  is successful!\n",
      "Moyamoya is failed!\n",
      "Renal  is successful!\n",
      "Susac is failed!\n",
      "Thromboangiitis is failed!\n",
      "Capillary  is successful!\n",
      "Cerebrovascular  is successful!\n",
      "Disorders  is successful!\n",
      "Basal  is successful!\n",
      "Ganglia  is successful!\n",
      "Hemorrhage  is successful!\n",
      "Putaminal is failed!\n",
      "Infarctions is failed!\n",
      "Lateral  is successful!\n",
      "Medullary  is successful!\n",
      "Cerebral  is successful!\n",
      "CADASIL  is successful!\n",
      "Multi-Infarct  is successful!\n",
      "Posterior  is successful!\n",
      "Hypoxia-Ischemia  is successful!\n",
      "Ischemic  is successful!\n",
      "Transient  is successful!\n",
      "Vertebrobasilar is failed!\n",
      "Subclavian is failed!\n",
      "Amyloid  is successful!\n",
      "Angiopathy is failed!\n",
      "Fabry  is successful!\n",
      "MELAS  is successful!\n",
      "Microscopic  is successful!\n",
      "Polyangiitis  is successful!\n",
      "Lacunar is failed!\n",
      "Trauma  is successful!\n",
      "Subarachnoid is failed!\n",
      "Hemorrhage  is successful!\n",
      "Traumatic  is successful!\n",
      "Angiopathy is failed!\n",
      "Embolism  is successful!\n",
      "Thrombosis  is successful!\n",
      "Cavernous  is successful!\n",
      "Sagittal is failed!\n",
      "Hemorrhages  is successful!\n",
      "Intraventricular is failed!\n",
      "Hypertensive  is successful!\n",
      "Hematoma is failed!\n",
      "Epidural is failed!\n",
      "Cranial  is successful!\n",
      "Subdural is failed!\n",
      "Subdural is failed!\n",
      "Chronic  is successful!\n",
      "Pituitary  is successful!\n",
      "Apoplexy is failed!\n",
      "Leukomalacia is failed!\n",
      "Periventricular is failed!\n",
      "Sneddon  is successful!\n",
      "Headaches is failed!\n"
     ]
    },
    {
     "name": "stdout",
     "output_type": "stream",
     "text": [
      "Vasculitis  is successful!\n",
      "AIDS  is successful!\n",
      "Arteritis  is successful!\n",
      "Lupus  is successful!\n",
      "Vasospasm  is successful!\n",
      "Colitis  is successful!\n",
      "Compartment  is successful!\n",
      "Intra-Abdominal  is successful!\n",
      "Hypertension  is successful!\n",
      "Contracture is failed!\n",
      "Angiopathies is failed!\n",
      "Retinopathy  is successful!\n",
      "Cholesterol  is successful!\n",
      "Thromboembolism  is successful!\n",
      "Paradoxical  is successful!\n",
      "Budd-Chiari  is successful!\n",
      "Postthrombotic is failed!\n",
      "Thrombophlebitis is failed!\n",
      "Lemierre is failed!\n",
      "Hand-Arm  is successful!\n",
      "Vibration is failed!\n",
      "Hemorrhoids is failed!\n",
      "Hemostatic  is successful!\n",
      "Cryoglobulinemia is failed!\n",
      "Ehlers-Danlos  is successful!\n",
      "Myeloma  is successful!\n",
      "Pseudoxanthoma  is successful!\n",
      "Elasticum  is successful!\n",
      "Purpura  is successful!\n",
      "Hyperglobulinemic is failed!\n",
      "Scurvy is failed!\n",
      "Shwartzman is failed!\n",
      "Phenomenon  is successful!\n",
      "Telangiectasia  is successful!\n",
      "Hemorrhagic  is successful!\n",
      "Waldenstrom  is successful!\n",
      "Macroglobulinemia  is successful!\n",
      "Hepatic  is successful!\n",
      "Veno-Occlusive is failed!\n",
      "Hyperemia is failed!\n",
      "Hypertension  is successful!\n",
      "Pregnancy-Induced  is successful!\n",
      "Renovascular  is successful!\n",
      "Hypotension  is successful!\n",
      "Hypotension  is successful!\n",
      "Orthostatic  is successful!\n",
      "Post-Exercise  is successful!\n",
      "Shy-Drager  is successful!\n",
      "Optic  is successful!\n",
      "Neuropathy  is successful!\n",
      "Peliosis is failed!\n",
      "Hepatis is failed!\n",
      "Erythromelalgia is failed!\n",
      "Livedo is failed!\n",
      "Reticularis is failed!\n",
      "Phlebitis is failed!\n",
      "Postphlebitic is failed!\n",
      "Raynaud  is successful!\n",
      "Prehypertension is failed!\n",
      "Primary  is successful!\n",
      "Spinal  is successful!\n",
      "Splenic  is successful!\n",
      "Superior  is successful!\n",
      "Vena is failed!\n",
      "Cava  is successful!\n",
      "Telangiectasis is failed!\n",
      "Ataxia  is successful!\n",
      "Telangiectasia  is successful!\n",
      "Cervical  is successful!\n",
      "Rib  is successful!\n",
      "Varicocele is failed!\n",
      "Varicose is failed!\n",
      "Veins is failed!\n",
      "Ulcer  is successful!\n",
      "Vasculitis  is successful!\n",
      "Endarteritis is failed!\n",
      "Polyarteritis  is successful!\n",
      "Nodosa  is successful!\n",
      "Behcet  is successful!\n",
      "Cogan is failed!\n",
      "Mucocutaneous  is successful!\n",
      "Lymph  is successful!\n",
      "Schoenlein-Henoch  is successful!\n",
      "Anti-Neutrophil  is successful!\n",
      "Churg-Strauss  is successful!\n",
      "Granulomatosis  is successful!\n",
      "Rheumatoid  is successful!\n",
      "Leukocytoclastic is failed!\n",
      "Cutaneous  is successful!\n",
      "Vasoplegia is failed!\n"
     ]
    }
   ],
   "source": [
    "dic = {}\n",
    "for i in range(len(urls)):\n",
    "    url = urls[i]\n",
    "    flag = 0\n",
    "    try:\n",
    "        request = urllib.request.Request(url)\n",
    "        response = urllib.request.urlopen(request)\n",
    "        content = response.read().decode('ISO-8859-1')\n",
    "        #print(content)\n",
    "        pattern = re.compile('Filter.*?<strong>(.*?)</strong>.*of.*<strong>(.*?)</strong>')\n",
    "        pages = re.findall(pattern, content)\n",
    "        #print(pages)\n",
    "        print(mesh[i],' is successful!')\n",
    "        \n",
    "        x = int(pages[0][0])\n",
    "        n = int(pages[0][1])\n",
    "        pageSum = math.ceil(n/x)\n",
    "        \n",
    "        temp = []\n",
    "\n",
    "        for j in range(pageSum):\n",
    "            url_page = url + '&page=' + str(j+1)\n",
    "            try:\n",
    "                request = urllib.request.Request(url_page)\n",
    "                response = urllib.request.urlopen(request)\n",
    "                content = response.read().decode('ISO-8859-1')\n",
    "                #print(content)\n",
    "                pattern = re.compile('<strong>Identifier: </strong>(R-HSA-\\d+)')\n",
    "                items = re.findall(pattern, content)\n",
    "                for k in items:\n",
    "                    temp.append(k)\n",
    "\n",
    "            except urllib.request.URLError as e:\n",
    "                if hasattr(e,\"code\"):\n",
    "                    print(e.code)\n",
    "                if hasattr(e,\"reason\"):\n",
    "                    print(e.reason)\n",
    "                    \n",
    "        dic[mesh[i]] = temp\n",
    "\n",
    "    except urllib.request.URLError as e:\n",
    "        print(mesh[i], 'is failed!')\n",
    "        #if hasattr(e,\"code\"):\n",
    "        #    print(e.code)\n",
    "        #if hasattr(e,\"reason\"):\n",
    "        #    print(e.reason)"
   ]
  },
  {
   "cell_type": "code",
   "execution_count": 14,
   "metadata": {
    "scrolled": false
   },
   "outputs": [
    {
     "data": {
      "text/plain": [
       "196"
      ]
     },
     "execution_count": 14,
     "metadata": {},
     "output_type": "execute_result"
    }
   ],
   "source": [
    "name = []\n",
    "Indent = []\n",
    "\n",
    "for i in dic:\n",
    "    for j in dic[i]:\n",
    "        name.append(i)\n",
    "        Indent.append(j)\n",
    "\n",
    "#for i in range(len(name)):\n",
    "    #print(name[i], ': ', Indent[i])\n",
    "    \n",
    "new = {'name':name, 'Identifier':Indent}\n",
    "new = pd.DataFrame(new)\n",
    "len(dic)"
   ]
  },
  {
   "cell_type": "code",
   "execution_count": 15,
   "metadata": {},
   "outputs": [
    {
     "data": {
      "text/plain": [
       "196"
      ]
     },
     "execution_count": 15,
     "metadata": {},
     "output_type": "execute_result"
    }
   ],
   "source": [
    "len(dic)"
   ]
  },
  {
   "cell_type": "code",
   "execution_count": 16,
   "metadata": {},
   "outputs": [],
   "source": [
    "stat = {}"
   ]
  },
  {
   "cell_type": "code",
   "execution_count": 17,
   "metadata": {},
   "outputs": [],
   "source": [
    "for i in dic.keys():\n",
    "    stat[i] = len(dic[i])"
   ]
  },
  {
   "cell_type": "code",
   "execution_count": 18,
   "metadata": {},
   "outputs": [],
   "source": [
    "stat = pd.DataFrame.from_dict(stat, orient = 'index', columns=['numbers'])\n",
    "stat = stat.reset_index().rename(columns = {'index':'name'})"
   ]
  },
  {
   "cell_type": "code",
   "execution_count": 19,
   "metadata": {},
   "outputs": [
    {
     "data": {
      "text/plain": [
       "1060"
      ]
     },
     "execution_count": 19,
     "metadata": {},
     "output_type": "execute_result"
    }
   ],
   "source": [
    "new.head()\n",
    "len(new)"
   ]
  },
  {
   "cell_type": "code",
   "execution_count": 20,
   "metadata": {},
   "outputs": [],
   "source": [
    "new.to_csv('./pathwayIndentifier.csv')"
   ]
  },
  {
   "cell_type": "code",
   "execution_count": 21,
   "metadata": {},
   "outputs": [],
   "source": [
    "stat.to_csv('./statForIndenti.csv')"
   ]
  },
  {
   "cell_type": "code",
   "execution_count": 22,
   "metadata": {},
   "outputs": [],
   "source": [
    "np.save('dicCVD.npy',dic)"
   ]
  },
  {
   "cell_type": "code",
   "execution_count": 2,
   "metadata": {},
   "outputs": [],
   "source": [
    "dic = np.load('dicCVD.npy').item()"
   ]
  },
  {
   "cell_type": "code",
   "execution_count": 4,
   "metadata": {},
   "outputs": [
    {
     "data": {
      "text/plain": [
       "197"
      ]
     },
     "execution_count": 4,
     "metadata": {},
     "output_type": "execute_result"
    }
   ],
   "source": [
    "len(dic)"
   ]
  },
  {
   "cell_type": "code",
   "execution_count": 13,
   "metadata": {},
   "outputs": [],
   "source": [
    "del dic['Preg']"
   ]
  },
  {
   "cell_type": "code",
   "execution_count": null,
   "metadata": {},
   "outputs": [],
   "source": []
  }
 ],
 "metadata": {
  "kernelspec": {
   "display_name": "Python 3",
   "language": "python",
   "name": "python3"
  },
  "language_info": {
   "codemirror_mode": {
    "name": "ipython",
    "version": 3
   },
   "file_extension": ".py",
   "mimetype": "text/x-python",
   "name": "python",
   "nbconvert_exporter": "python",
   "pygments_lexer": "ipython3",
   "version": "3.6.2"
  }
 },
 "nbformat": 4,
 "nbformat_minor": 2
}
