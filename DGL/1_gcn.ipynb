{
 "cells": [
  {
   "cell_type": "code",
   "execution_count": 1,
   "metadata": {
    "collapsed": false
   },
   "outputs": [],
   "source": [
    "%matplotlib inline"
   ]
  },
  {
   "cell_type": "markdown",
   "metadata": {},
   "source": [
    "\n",
    "\n",
    "Graph Convolutional Network\n",
    "====================================\n",
    "\n",
    "**Author:** `Qi Huang <https://github.com/HQ01>`_, `Minjie Wang  <https://jermainewang.github.io/>`_,\n",
    "Yu Gai, Quan Gan, Zheng Zhang\n",
    "\n",
    "This is a gentle introduction of using DGL to implement Graph Convolutional\n",
    "Networks (Kipf & Welling et al., `Semi-Supervised Classification with Graph\n",
    "Convolutional Networks <https://arxiv.org/pdf/1609.02907.pdf>`_). We explain\n",
    "what is under the hood of the :class:`~dgl.nn.pytorch.GraphConv` module.\n",
    "The reader is expected to learn how to define a new GNN layer using DGL's\n",
    "message passing APIs.\n",
    "\n",
    "We build upon the :doc:`earlier tutorial <../../basics/3_pagerank>` on DGLGraph\n",
    "and demonstrate how DGL combines graph with deep neural network and learn\n",
    "structural representations.\n"
   ]
  },
  {
   "cell_type": "markdown",
   "metadata": {},
   "source": [
    "Model Overview\n",
    "------------------------------------------\n",
    "GCN from the perspective of message passing\n",
    "```````````````````````````````````````````````\n",
    "We describe a layer of graph convolutional neural network from a message\n",
    "passing perspective; the math can be found `here <math_>`_.\n",
    "It boils down to the following step, for each node $u$:\n",
    "\n",
    "1) Aggregate neighbors' representations $h_{v}$ to produce an\n",
    "intermediate representation $\\hat{h}_u$.  2) Transform the aggregated\n",
    "representation $\\hat{h}_{u}$ with a linear projection followed by a\n",
    "non-linearity: $h_{u} = f(W_{u} \\hat{h}_u)$.\n",
    "\n",
    "We will implement step 1 with DGL message passing, and step 2 by\n",
    "PyTorch ``nn.Module``.\n",
    "\n",
    "GCN implementation with DGL\n",
    "``````````````````````````````````````````\n",
    "We first define the message and reduce function as usual.  Since the\n",
    "aggregation on a node $u$ only involves summing over the neighbors'\n",
    "representations $h_v$, we can simply use builtin functions:\n",
    "\n"
   ]
  },
  {
   "cell_type": "code",
   "execution_count": 3,
   "metadata": {
    "collapsed": false
   },
   "outputs": [],
   "source": [
    "import dgl\n",
    "import dgl.function as fn\n",
    "import torch as th\n",
    "import torch.nn as nn\n",
    "import torch.nn.functional as F\n",
    "from dgl import DGLGraph\n",
    "\n",
    "gcn_msg = fn.copy_src(src='h', out='m')\n",
    "gcn_reduce = fn.sum(msg='m', out='h')"
   ]
  },
  {
   "cell_type": "markdown",
   "metadata": {},
   "source": [
    "We then proceed to define the GCNLayer module. A GCNLayer essentially performs\n",
    "message passing on all the nodes then applies a fully-connected layer.\n",
    "\n"
   ]
  },
  {
   "cell_type": "code",
   "execution_count": 4,
   "metadata": {
    "collapsed": false
   },
   "outputs": [],
   "source": [
    "class GCNLayer(nn.Module):\n",
    "    def __init__(self, in_feats, out_feats):\n",
    "        super(GCNLayer, self).__init__()\n",
    "        self.linear = nn.Linear(in_feats, out_feats)\n",
    "\n",
    "    def forward(self, g, feature):\n",
    "        # Creating a local scope so that all the stored ndata and edata\n",
    "        # (such as the `'h'` ndata below) are automatically popped out\n",
    "        # when the scope exits.\n",
    "        with g.local_scope():\n",
    "            g.ndata['h'] = feature\n",
    "            g.update_all(gcn_msg, gcn_reduce)\n",
    "            h = g.ndata['h']\n",
    "            return self.linear(h)"
   ]
  },
  {
   "cell_type": "markdown",
   "metadata": {},
   "source": [
    "The forward function is essentially the same as any other commonly seen NNs\n",
    "model in PyTorch.  We can initialize GCN like any ``nn.Module``. For example,\n",
    "let's define a simple neural network consisting of two GCN layers. Suppose we\n",
    "are training the classifier for the cora dataset (the input feature size is\n",
    "1433 and the number of classes is 7). The last GCN layer computes node embeddings,\n",
    "so the last layer in general does not apply activation.\n",
    "\n"
   ]
  },
  {
   "cell_type": "code",
   "execution_count": 5,
   "metadata": {
    "collapsed": false
   },
   "outputs": [
    {
     "name": "stdout",
     "output_type": "stream",
     "text": [
      "Net(\n",
      "  (layer1): GCNLayer(\n",
      "    (linear): Linear(in_features=1433, out_features=16, bias=True)\n",
      "  )\n",
      "  (layer2): GCNLayer(\n",
      "    (linear): Linear(in_features=16, out_features=7, bias=True)\n",
      "  )\n",
      ")\n"
     ]
    }
   ],
   "source": [
    "class Net(nn.Module):\n",
    "    def __init__(self):\n",
    "        super(Net, self).__init__()\n",
    "        self.layer1 = GCNLayer(1433, 16)\n",
    "        self.layer2 = GCNLayer(16, 7)\n",
    "    \n",
    "    def forward(self, g, features):\n",
    "        x = F.relu(self.layer1(g, features))\n",
    "        x = self.layer2(g, x)\n",
    "        return x\n",
    "net = Net()\n",
    "print(net)"
   ]
  },
  {
   "cell_type": "markdown",
   "metadata": {},
   "source": [
    "We load the cora dataset using DGL's built-in data module.\n",
    "\n"
   ]
  },
  {
   "cell_type": "code",
   "execution_count": 6,
   "metadata": {
    "collapsed": false
   },
   "outputs": [],
   "source": [
    "from dgl.data import citation_graph as citegrh\n",
    "import networkx as nx\n",
    "def load_cora_data():\n",
    "    data = citegrh.load_cora()\n",
    "    features = th.FloatTensor(data.features)\n",
    "    labels = th.LongTensor(data.labels)\n",
    "    train_mask = th.BoolTensor(data.train_mask)\n",
    "    test_mask = th.BoolTensor(data.test_mask)\n",
    "    g = DGLGraph(data.graph)\n",
    "    return g, features, labels, train_mask, test_mask"
   ]
  },
  {
   "cell_type": "markdown",
   "metadata": {},
   "source": [
    "When a model is trained, we can use the following method to evaluate\n",
    "the performance of the model on the test dataset:\n",
    "\n"
   ]
  },
  {
   "cell_type": "code",
   "execution_count": 7,
   "metadata": {
    "collapsed": false
   },
   "outputs": [],
   "source": [
    "def evaluate(model, g, features, labels, mask):\n",
    "    model.eval()\n",
    "    with th.no_grad():\n",
    "        logits = model(g, features)\n",
    "        logits = logits[mask]\n",
    "        labels = labels[mask]\n",
    "        _, indices = th.max(logits, dim=1)\n",
    "        correct = th.sum(indices == labels)\n",
    "        return correct.item() * 1.0 / len(labels)"
   ]
  },
  {
   "cell_type": "markdown",
   "metadata": {},
   "source": [
    "We then train the network as follows:\n",
    "\n"
   ]
  },
  {
   "cell_type": "code",
   "execution_count": 18,
   "metadata": {
    "collapsed": false
   },
   "outputs": [
    {
     "name": "stderr",
     "output_type": "stream",
     "text": [
      "/Users/apple/anaconda3/lib/python3.6/site-packages/numpy/core/fromnumeric.py:3335: RuntimeWarning: Mean of empty slice.\n",
      "  out=out, **kwargs)\n",
      "/Users/apple/anaconda3/lib/python3.6/site-packages/numpy/core/_methods.py:161: RuntimeWarning: invalid value encountered in double_scalars\n",
      "  ret = ret.dtype.type(ret / rcount)\n"
     ]
    },
    {
     "name": "stdout",
     "output_type": "stream",
     "text": [
      "Epoch 00000 | Loss 0.0083 | Test Acc 0.7370 | Time(s) nan\n",
      "Epoch 00001 | Loss 0.1209 | Test Acc 0.7700 | Time(s) nan\n",
      "Epoch 00002 | Loss 0.0094 | Test Acc 0.7760 | Time(s) nan\n",
      "Epoch 00003 | Loss 0.0194 | Test Acc 0.7690 | Time(s) 0.0155\n",
      "Epoch 00004 | Loss 0.0444 | Test Acc 0.7670 | Time(s) 0.0150\n",
      "Epoch 00005 | Loss 0.0528 | Test Acc 0.7700 | Time(s) 0.0152\n",
      "Epoch 00006 | Loss 0.0493 | Test Acc 0.7680 | Time(s) 0.0152\n",
      "Epoch 00007 | Loss 0.0456 | Test Acc 0.7650 | Time(s) 0.0150\n",
      "Epoch 00008 | Loss 0.0405 | Test Acc 0.7680 | Time(s) 0.0149\n",
      "Epoch 00009 | Loss 0.0334 | Test Acc 0.7660 | Time(s) 0.0153\n",
      "Epoch 00010 | Loss 0.0249 | Test Acc 0.7580 | Time(s) 0.0152\n",
      "Epoch 00011 | Loss 0.0157 | Test Acc 0.7520 | Time(s) 0.0153\n",
      "Epoch 00012 | Loss 0.0085 | Test Acc 0.7390 | Time(s) 0.0153\n",
      "Epoch 00013 | Loss 0.0083 | Test Acc 0.7330 | Time(s) 0.0152\n",
      "Epoch 00014 | Loss 0.0167 | Test Acc 0.7310 | Time(s) 0.0151\n",
      "Epoch 00015 | Loss 0.0234 | Test Acc 0.7390 | Time(s) 0.0150\n",
      "Epoch 00016 | Loss 0.0199 | Test Acc 0.7440 | Time(s) 0.0150\n",
      "Epoch 00017 | Loss 0.0116 | Test Acc 0.7540 | Time(s) 0.0152\n",
      "Epoch 00018 | Loss 0.0069 | Test Acc 0.7620 | Time(s) 0.0152\n",
      "Epoch 00019 | Loss 0.0072 | Test Acc 0.7640 | Time(s) 0.0151\n",
      "Epoch 00020 | Loss 0.0098 | Test Acc 0.7700 | Time(s) 0.0151\n",
      "Epoch 00021 | Loss 0.0123 | Test Acc 0.7710 | Time(s) 0.0151\n",
      "Epoch 00022 | Loss 0.0135 | Test Acc 0.7740 | Time(s) 0.0151\n",
      "Epoch 00023 | Loss 0.0129 | Test Acc 0.7760 | Time(s) 0.0151\n",
      "Epoch 00024 | Loss 0.0110 | Test Acc 0.7730 | Time(s) 0.0150\n",
      "Epoch 00025 | Loss 0.0084 | Test Acc 0.7720 | Time(s) 0.0151\n",
      "Epoch 00026 | Loss 0.0063 | Test Acc 0.7690 | Time(s) 0.0150\n",
      "Epoch 00027 | Loss 0.0057 | Test Acc 0.7670 | Time(s) 0.0150\n",
      "Epoch 00028 | Loss 0.0067 | Test Acc 0.7660 | Time(s) 0.0150\n",
      "Epoch 00029 | Loss 0.0082 | Test Acc 0.7660 | Time(s) 0.0149\n",
      "Epoch 00030 | Loss 0.0088 | Test Acc 0.7670 | Time(s) 0.0150\n",
      "Epoch 00031 | Loss 0.0079 | Test Acc 0.7680 | Time(s) 0.0150\n",
      "Epoch 00032 | Loss 0.0065 | Test Acc 0.7690 | Time(s) 0.0149\n",
      "Epoch 00033 | Loss 0.0054 | Test Acc 0.7740 | Time(s) 0.0150\n",
      "Epoch 00034 | Loss 0.0051 | Test Acc 0.7770 | Time(s) 0.0150\n",
      "Epoch 00035 | Loss 0.0055 | Test Acc 0.7790 | Time(s) 0.0150\n",
      "Epoch 00036 | Loss 0.0061 | Test Acc 0.7780 | Time(s) 0.0150\n",
      "Epoch 00037 | Loss 0.0064 | Test Acc 0.7780 | Time(s) 0.0149\n",
      "Epoch 00038 | Loss 0.0061 | Test Acc 0.7760 | Time(s) 0.0149\n",
      "Epoch 00039 | Loss 0.0056 | Test Acc 0.7760 | Time(s) 0.0149\n",
      "Epoch 00040 | Loss 0.0050 | Test Acc 0.7670 | Time(s) 0.0149\n",
      "Epoch 00041 | Loss 0.0046 | Test Acc 0.7630 | Time(s) 0.0149\n",
      "Epoch 00042 | Loss 0.0047 | Test Acc 0.7610 | Time(s) 0.0149\n",
      "Epoch 00043 | Loss 0.0049 | Test Acc 0.7630 | Time(s) 0.0149\n",
      "Epoch 00044 | Loss 0.0051 | Test Acc 0.7620 | Time(s) 0.0149\n",
      "Epoch 00045 | Loss 0.0051 | Test Acc 0.7620 | Time(s) 0.0149\n",
      "Epoch 00046 | Loss 0.0048 | Test Acc 0.7620 | Time(s) 0.0149\n",
      "Epoch 00047 | Loss 0.0044 | Test Acc 0.7630 | Time(s) 0.0149\n",
      "Epoch 00048 | Loss 0.0042 | Test Acc 0.7680 | Time(s) 0.0149\n",
      "Epoch 00049 | Loss 0.0042 | Test Acc 0.7690 | Time(s) 0.0149\n"
     ]
    }
   ],
   "source": [
    "import time\n",
    "import numpy as np\n",
    "g, features, labels, train_mask, test_mask = load_cora_data()\n",
    "# Add edges between each node and itself to preserve old node representations\n",
    "g.add_edges(g.nodes(), g.nodes())\n",
    "optimizer = th.optim.Adam(net.parameters(), lr=1e-2)\n",
    "dur = []\n",
    "for epoch in range(50):\n",
    "    if epoch >=3:\n",
    "        t0 = time.time()\n",
    "\n",
    "    net.train()\n",
    "    logits = net(g, features)\n",
    "    logp = F.log_softmax(logits, 1)\n",
    "    loss = F.nll_loss(logp[train_mask], labels[train_mask])\n",
    "    \n",
    "    optimizer.zero_grad()\n",
    "    loss.backward()\n",
    "    optimizer.step()\n",
    "    \n",
    "    if epoch >=3:\n",
    "        dur.append(time.time() - t0)\n",
    "    \n",
    "    acc = evaluate(net, g, features, labels, test_mask)\n",
    "    print(\"Epoch {:05d} | Loss {:.4f} | Test Acc {:.4f} | Time(s) {:.4f}\".format(\n",
    "            epoch, loss.item(), acc, np.mean(dur)))"
   ]
  },
  {
   "cell_type": "code",
   "execution_count": 14,
   "metadata": {},
   "outputs": [
    {
     "data": {
      "text/plain": [
       "DGLGraph(num_nodes=2708, num_edges=10556,\n",
       "         ndata_schemes={}\n",
       "         edata_schemes={})"
      ]
     },
     "execution_count": 14,
     "metadata": {},
     "output_type": "execute_result"
    }
   ],
   "source": [
    "g, features, labels, train_mask, test_mask = load_cora_data()"
   ]
  },
  {
   "cell_type": "code",
   "execution_count": 17,
   "metadata": {},
   "outputs": [
    {
     "data": {
      "text/plain": [
       "tensor([False, False, False,  ..., False, False, False])"
      ]
     },
     "execution_count": 17,
     "metadata": {},
     "output_type": "execute_result"
    }
   ],
   "source": [
    "test_mask"
   ]
  },
  {
   "cell_type": "markdown",
   "metadata": {},
   "source": [
    "\n",
    "GCN in one formula\n",
    "------------------\n",
    "Mathematically, the GCN model follows this formula:\n",
    "\n",
    "$H^{(l+1)} = \\sigma(\\tilde{D}^{-\\frac{1}{2}}\\tilde{A}\\tilde{D}^{-\\frac{1}{2}}H^{(l)}W^{(l)})$\n",
    "\n",
    "Here, $H^{(l)}$ denotes the $l^{th}$ layer in the network,\n",
    "$\\sigma$ is the non-linearity, and $W$ is the weight matrix for\n",
    "this layer. $\\tilde{D}$ and $\\tilde{A}$ are separately the degree\n",
    "and adjacency matrices for the graph. With the superscript ~, we are referring\n",
    "to the variant where we add additional edges between each node and itself to\n",
    "preserve its old representation in graph convolutions. The shape of the input\n",
    "$H^{(0)}$ is $N \\times D$, where $N$ is the number of nodes\n",
    "and $D$ is the number of input features. We can chain up multiple\n",
    "layers as such to produce a node-level representation output with shape\n",
    "$N \\times F$, where $F$ is the dimension of the output node\n",
    "feature vector.\n",
    "\n",
    "The equation can be efficiently implemented using sparse matrix\n",
    "multiplication kernels (such as Kipf's\n",
    "`pygcn <https://github.com/tkipf/pygcn>`_ code). The above DGL implementation\n",
    "in fact has already used this trick due to the use of builtin functions. To\n",
    "understand what is under the hood, please read our tutorial on :doc:`PageRank <../../basics/3_pagerank>`.\n",
    "\n",
    "Note that the tutorial code implements a simplified version of GCN where we\n",
    "replace $\\tilde{D}^{-\\frac{1}{2}}\\tilde{A}\\tilde{D}^{-\\frac{1}{2}}$ with\n",
    "$\\tilde{A}$. For a full implementation, see our example\n",
    "`here  <https://github.com/dmlc/dgl/tree/master/examples/pytorch/gcn>`_.\n",
    "\n"
   ]
  },
  {
   "cell_type": "code",
   "execution_count": null,
   "metadata": {},
   "outputs": [],
   "source": []
  }
 ],
 "metadata": {
  "kernelspec": {
   "display_name": "Python 3",
   "language": "python",
   "name": "python3"
  },
  "language_info": {
   "codemirror_mode": {
    "name": "ipython",
    "version": 3
   },
   "file_extension": ".py",
   "mimetype": "text/x-python",
   "name": "python",
   "nbconvert_exporter": "python",
   "pygments_lexer": "ipython3",
   "version": "3.6.5"
  }
 },
 "nbformat": 4,
 "nbformat_minor": 2
}
