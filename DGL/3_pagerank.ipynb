{
 "cells": [
  {
   "cell_type": "code",
   "execution_count": 1,
   "metadata": {
    "collapsed": false
   },
   "outputs": [],
   "source": [
    "%matplotlib inline"
   ]
  },
  {
   "cell_type": "markdown",
   "metadata": {},
   "source": [
    "\n",
    ".. currentmodule:: dgl\n",
    "\n",
    "Message Passing Tutorial\n",
    "========================\n",
    "\n",
    "**Author**: `Minjie Wang <https://jermainewang.github.io/>`_, Quan Gan, Yu Gai,\n",
    "Zheng Zhang\n",
    "\n",
    "In this tutorial, you learn how to use different levels of the message\n",
    "passing API with PageRank on a small graph. In DGL, the message passing and\n",
    "feature transformations are **user-defined functions** (UDFs).\n"
   ]
  },
  {
   "cell_type": "markdown",
   "metadata": {},
   "source": [
    "The PageRank algorithm\n",
    "----------------------\n",
    "In each iteration of PageRank, every node (web page) first scatters its\n",
    "PageRank value uniformly to its downstream nodes. The new PageRank value of\n",
    "each node is computed by aggregating the received PageRank values from its\n",
    "neighbors, which is then adjusted by the damping factor:\n",
    "\n",
    "\\begin{align}PV(u) = \\frac{1-d}{N} + d \\times \\sum_{v \\in \\mathcal{N}(u)}\n",
    "   \\frac{PV(v)}{D(v)}\\end{align}\n",
    "\n",
    "where $N$ is the number of nodes in the graph; $D(v)$ is the\n",
    "out-degree of a node $v$; and $\\mathcal{N}(u)$ is the neighbor\n",
    "nodes.\n",
    "\n"
   ]
  },
  {
   "cell_type": "markdown",
   "metadata": {},
   "source": [
    "A naive implementation\n",
    "----------------------\n",
    "Create a graph with 100 nodes by using ``networkx`` and then convert it to a\n",
    ":class:`DGLGraph`.\n",
    "\n"
   ]
  },
  {
   "cell_type": "code",
   "execution_count": null,
   "metadata": {
    "collapsed": false
   },
   "outputs": [],
   "source": [
    "import networkx as nx\n",
    "import matplotlib.pyplot as plt\n",
    "import torch\n",
    "import dgl\n",
    "\n",
    "N = 100  # number of nodes\n",
    "DAMP = 0.85  # damping factor\n",
    "K = 10  # number of iterations\n",
    "g = nx.nx.erdos_renyi_graph(N, 0.1)\n",
    "g = dgl.DGLGraph(g)\n",
    "nx.draw(g.to_networkx(), node_size=50, node_color=[[.5, .5, .5,]])\n",
    "plt.show()"
   ]
  },
  {
   "cell_type": "markdown",
   "metadata": {},
   "source": [
    "According to the algorithm, PageRank consists of two phases in a typical\n",
    "scatter-gather pattern. Initialize the PageRank value of each node\n",
    "to $\\frac{1}{N}$ and then store each node's out-degree as a node feature.\n",
    "\n"
   ]
  },
  {
   "cell_type": "code",
   "execution_count": null,
   "metadata": {
    "collapsed": false
   },
   "outputs": [],
   "source": [
    "g.ndata['pv'] = torch.ones(N) / N\n",
    "g.ndata['deg'] = g.out_degrees(g.nodes()).float()"
   ]
  },
  {
   "cell_type": "markdown",
   "metadata": {},
   "source": [
    "Define the message function, which divides every node's PageRank\n",
    "value by its out-degree and passes the result as message to its neighbors.\n",
    "\n"
   ]
  },
  {
   "cell_type": "code",
   "execution_count": null,
   "metadata": {
    "collapsed": false
   },
   "outputs": [],
   "source": [
    "def pagerank_message_func(edges):\n",
    "    return {'pv' : edges.src['pv'] / edges.src['deg']}"
   ]
  },
  {
   "cell_type": "markdown",
   "metadata": {},
   "source": [
    "In DGL, the message functions are expressed as **Edge UDFs**.  Edge UDFs\n",
    "take in a single argument ``edges``.  It has three members ``src``, ``dst``,\n",
    "and ``data`` for accessing source node features, destination node features,\n",
    "and edge features.  Here, the function computes messages only\n",
    "from source node features.\n",
    "\n",
    "Define the reduce function, which removes and aggregates the\n",
    "messages from its ``mailbox``, and computes its new PageRank value.\n",
    "\n"
   ]
  },
  {
   "cell_type": "code",
   "execution_count": null,
   "metadata": {
    "collapsed": false
   },
   "outputs": [],
   "source": [
    "def pagerank_reduce_func(nodes):\n",
    "    msgs = torch.sum(nodes.mailbox['pv'], dim=1)\n",
    "    pv = (1 - DAMP) / N + DAMP * msgs\n",
    "    return {'pv' : pv}"
   ]
  },
  {
   "cell_type": "markdown",
   "metadata": {},
   "source": [
    "The reduce functions are **Node UDFs**.  Node UDFs have a single argument\n",
    "``nodes``, which has two members ``data`` and ``mailbox``.  ``data``\n",
    "contains the node features and ``mailbox`` contains all incoming message\n",
    "features, stacked along the second dimension (hence the ``dim=1`` argument).\n",
    "\n",
    "The message UDF works on a batch of edges, whereas the reduce UDF works on\n",
    "a batch of edges but outputs a batch of nodes. Their relationships are as\n",
    "follows:\n",
    "\n",
    "![](https://i.imgur.com/kIMiuFb.png)\n",
    "\n",
    "\n",
    "Register the message function and reduce function, which will be called\n",
    "later by DGL.\n",
    "\n"
   ]
  },
  {
   "cell_type": "code",
   "execution_count": null,
   "metadata": {
    "collapsed": false
   },
   "outputs": [],
   "source": [
    "g.register_message_func(pagerank_message_func)\n",
    "g.register_reduce_func(pagerank_reduce_func)"
   ]
  },
  {
   "cell_type": "markdown",
   "metadata": {},
   "source": [
    "The algorithm is straightforward. Here is the code for one\n",
    "PageRank iteration.\n",
    "\n"
   ]
  },
  {
   "cell_type": "code",
   "execution_count": null,
   "metadata": {
    "collapsed": false
   },
   "outputs": [],
   "source": [
    "def pagerank_naive(g):\n",
    "    # Phase #1: send out messages along all edges.\n",
    "    for u, v in zip(*g.edges()):\n",
    "        g.send((u, v))\n",
    "    # Phase #2: receive messages to compute new PageRank values.\n",
    "    for v in g.nodes():\n",
    "        g.recv(v)"
   ]
  },
  {
   "cell_type": "markdown",
   "metadata": {},
   "source": [
    "Batching semantics for a large graph\n",
    "------------------------------------\n",
    "The above code does not scale to a large graph because it iterates over all\n",
    "the nodes. DGL solves this by allowing you to compute on a *batch* of nodes or\n",
    "edges. For example, the following codes trigger message and reduce functions\n",
    "on multiple nodes and edges at one time.\n",
    "\n"
   ]
  },
  {
   "cell_type": "code",
   "execution_count": null,
   "metadata": {
    "collapsed": false
   },
   "outputs": [],
   "source": [
    "def pagerank_batch(g):\n",
    "    g.send(g.edges())\n",
    "    g.recv(g.nodes())"
   ]
  },
  {
   "cell_type": "markdown",
   "metadata": {},
   "source": [
    "You are still using the same reduce function ``pagerank_reduce_func``,\n",
    "where ``nodes.mailbox['pv']`` is a *single* tensor, stacking the incoming\n",
    "messages along the second dimension.\n",
    "\n",
    "You might wonder if this is even possible to perform reduce on all\n",
    "nodes in parallel, since each node may have different number of incoming\n",
    "messages and you cannot really \"stack\" tensors of different lengths together.\n",
    "In general, DGL solves the problem by grouping the nodes by the number of\n",
    "incoming messages, and calling the reduce function for each group.\n",
    "\n"
   ]
  },
  {
   "cell_type": "markdown",
   "metadata": {},
   "source": [
    "Use higher-level APIs for efficiency\n",
    "---------------------------------------\n",
    "DGL provides many routines that combine basic ``send`` and ``recv`` in\n",
    "various ways. These routines are called **level-2 APIs**. For example, the next code example\n",
    "shows how to further simplify the PageRank example with such an API.\n",
    "\n"
   ]
  },
  {
   "cell_type": "code",
   "execution_count": null,
   "metadata": {
    "collapsed": false
   },
   "outputs": [],
   "source": [
    "def pagerank_level2(g):\n",
    "    g.update_all()"
   ]
  },
  {
   "cell_type": "markdown",
   "metadata": {},
   "source": [
    "In addition to ``update_all``, you can use ``pull``, ``push``, and ``send_and_recv``\n",
    "in this level-2 category. For more information, see :doc:`API reference <../../api/python/graph>`.\n",
    "\n"
   ]
  },
  {
   "cell_type": "markdown",
   "metadata": {},
   "source": [
    "Use DGL ``builtin`` functions for efficiency\n",
    "------------------------------------------------\n",
    "Some of the message and reduce functions are used frequently. For this reason, DGL also\n",
    "provides ``builtin`` functions. For example, two ``builtin`` functions can be\n",
    "used in the PageRank example.\n",
    "\n",
    "* :func:`dgl.function.copy_src(src, out) <function.copy_src>` - This\n",
    "  code example is an edge UDF that computes the\n",
    "  output using the source node feature data. To use this, specify the name of\n",
    "  the source feature data (``src``) and the output name (``out``).\n",
    "\n",
    "* :func:`dgl.function.sum(msg, out) <function.sum>` - This code example is a node UDF\n",
    "  that sums the messages in\n",
    "  the node's mailbox. To use this, specify the message name (``msg``) and the\n",
    "  output name (``out``).\n",
    "\n",
    "The following PageRank example shows such functions.\n",
    "\n"
   ]
  },
  {
   "cell_type": "code",
   "execution_count": null,
   "metadata": {
    "collapsed": false
   },
   "outputs": [],
   "source": [
    "import dgl.function as fn\n",
    "\n",
    "def pagerank_builtin(g):\n",
    "    g.ndata['pv'] = g.ndata['pv'] / g.ndata['deg']\n",
    "    g.update_all(message_func=fn.copy_src(src='pv', out='m'),\n",
    "                 reduce_func=fn.sum(msg='m',out='m_sum'))\n",
    "    g.ndata['pv'] = (1 - DAMP) / N + DAMP * g.ndata['m_sum']"
   ]
  },
  {
   "cell_type": "markdown",
   "metadata": {},
   "source": [
    "In the previous example code, you directly provide the UDFs to the :func:`update_all <DGLGraph.update_all>`\n",
    "as its arguments.\n",
    "This will override the previously registered UDFs.\n",
    "\n",
    "In addition to cleaner code, using ``builtin`` functions also gives DGL the\n",
    "opportunity to fuse operations together. This results in faster execution.  For\n",
    "example, DGL will fuse the ``copy_src`` message function and ``sum`` reduce\n",
    "function into one sparse matrix-vector (spMV) multiplication.\n",
    "\n",
    "`The following section <spmv_>`_ describes why spMV can speed up the scatter-gather\n",
    "phase in PageRank.  For more details about the ``builtin`` functions in DGL,\n",
    "see :doc:`API reference <../../api/python/function>`.\n",
    "\n",
    "You can also download and run the different code examples to see the differences.\n",
    "\n"
   ]
  },
  {
   "cell_type": "code",
   "execution_count": null,
   "metadata": {
    "collapsed": false
   },
   "outputs": [],
   "source": [
    "for k in range(K):\n",
    "    # Uncomment the corresponding line to select different version.\n",
    "    # pagerank_naive(g)\n",
    "    # pagerank_batch(g)\n",
    "    # pagerank_level2(g)\n",
    "    pagerank_builtin(g)\n",
    "print(g.ndata['pv'])"
   ]
  },
  {
   "cell_type": "markdown",
   "metadata": {},
   "source": [
    "\n",
    "Using spMV for PageRank\n",
    "-----------------------\n",
    "Using ``builtin`` functions allows DGL to understand the semantics of UDFs.\n",
    "This allows you to create an efficient implementation. For example, in the case\n",
    "of PageRank, one common method to accelerate it is by using its linear algebra\n",
    "form.\n",
    "\n",
    "\\begin{align}\\mathbf{R}^{k} = \\frac{1-d}{N} \\mathbf{1} + d \\mathbf{A}*\\mathbf{R}^{k-1}\\end{align}\n",
    "\n",
    "Here, $\\mathbf{R}^k$ is the vector of the PageRank values of all nodes\n",
    "at iteration $k$; $\\mathbf{A}$ is the sparse adjacency matrix\n",
    "of the graph.\n",
    "Computing this equation is quite efficient because there is an efficient\n",
    "GPU kernel for the sparse matrix-vector multiplication (spMV). DGL\n",
    "detects whether such optimization is available through the ``builtin``\n",
    "functions. If a certain combination of ``builtin`` can be mapped to an spMV\n",
    "kernel (e.g., the PageRank example), DGL uses it automatically. We recommend \n",
    "using ``builtin`` functions whenever possible.\n",
    "\n"
   ]
  },
  {
   "cell_type": "markdown",
   "metadata": {},
   "source": [
    "Next steps\n",
    "----------\n",
    "\n",
    "* Learn how to use DGL (:doc:`builtin functions<../../features/builtin>`) to write \n",
    "  more efficient message passing.\n",
    "* To see model tutorials, see the :doc:`overview page<../models/index>`.\n",
    "* To learn about Graph Neural Networks, see :doc:`GCN tutorial<../models/1_gnn/1_gcn>`.\n",
    "* To see how DGL batches multiple graphs, see :doc:`TreeLSTM tutorial<../models/2_small_graph/3_tree-lstm>`.\n",
    "* Play with some graph generative models by following tutorial for :doc:`Deep Generative Model of Graphs<../models/3_generative_model/5_dgmg>`.\n",
    "* To learn how traditional models are interpreted in a view of graph, see \n",
    "  the tutorials on :doc:`CapsuleNet<../models/4_old_wines/2_capsule>` and\n",
    "  :doc:`Transformer<../models/4_old_wines/7_transformer>`.\n",
    "\n"
   ]
  }
 ],
 "metadata": {
  "kernelspec": {
   "display_name": "Python 3",
   "language": "python",
   "name": "python3"
  },
  "language_info": {
   "codemirror_mode": {
    "name": "ipython",
    "version": 3
   },
   "file_extension": ".py",
   "mimetype": "text/x-python",
   "name": "python",
   "nbconvert_exporter": "python",
   "pygments_lexer": "ipython3",
   "version": "3.6.5"
  }
 },
 "nbformat": 4,
 "nbformat_minor": 2
}
