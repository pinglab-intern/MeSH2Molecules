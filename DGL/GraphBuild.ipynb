{
 "cells": [
  {
   "cell_type": "markdown",
   "metadata": {},
   "source": [
    "value means srcID, dstID"
   ]
  },
  {
   "cell_type": "code",
   "execution_count": 22,
   "metadata": {},
   "outputs": [],
   "source": [
    "import dgl\n",
    "import torch as th\n",
    "import h5py"
   ]
  },
  {
   "cell_type": "code",
   "execution_count": 4,
   "metadata": {},
   "outputs": [
    {
     "data": {
      "text/plain": [
       "Graph(num_nodes={'disease': 2, 'drug': 3, 'gene': 4},\n",
       "      num_edges={('drug', 'interacts', 'drug'): 2, ('drug', 'interacts', 'gene'): 2, ('drug', 'treats', 'disease'): 2},\n",
       "      metagraph=[('drug', 'drug'), ('drug', 'gene'), ('drug', 'disease')])"
      ]
     },
     "execution_count": 4,
     "metadata": {},
     "output_type": "execute_result"
    }
   ],
   "source": [
    "# Create a heterograph with 3 node types and 3 edges types.\n",
    "graph_data = {\n",
    "    ('drug', 'interacts', 'drug'): (th.tensor([0, 1]), th.tensor([1, 0])),\n",
    "    ('drug', 'interacts', 'gene'): (th.tensor([0, 1]), th.tensor([2, 3])),\n",
    "    ('drug', 'treats', 'disease'): (th.tensor([1, 2]), th.tensor([1, 0]))\n",
    "}\n",
    "g = dgl.heterograph(graph_data)\n",
    "g"
   ]
  },
  {
   "cell_type": "code",
   "execution_count": 23,
   "metadata": {},
   "outputs": [],
   "source": [
    "f1 = h5py.File('./mesh_path.h5','r')\n",
    "f2 = h5py.File('./path_reac.h5','r')\n",
    "f3 = h5py.File('./reac_reac.h5','r')"
   ]
  },
  {
   "cell_type": "code",
   "execution_count": 24,
   "metadata": {},
   "outputs": [],
   "source": [
    "src1 = f1['src']\n",
    "src2 = f2['src']\n",
    "src3 = f3['src']\n",
    "dis1 = f1['dis']\n",
    "dis2 = f2['dis']\n",
    "dis3 = f3['dis']"
   ]
  },
  {
   "cell_type": "code",
   "execution_count": 25,
   "metadata": {},
   "outputs": [
    {
     "data": {
      "text/plain": [
       "<HDF5 dataset \"src\": shape (1289,), type \"<i8\">"
      ]
     },
     "execution_count": 25,
     "metadata": {},
     "output_type": "execute_result"
    }
   ],
   "source": [
    "src2"
   ]
  },
  {
   "cell_type": "code",
   "execution_count": 26,
   "metadata": {},
   "outputs": [
    {
     "data": {
      "text/plain": [
       "Graph(num_nodes={'meshDescriptor': 121, 'pathway': 209, 'reaction': 1277},\n",
       "      num_edges={('meshDescriptor', 'hasEvent', 'pathway'): 345, ('pathway', 'hasEvent', 'reaction'): 1289, ('reaction', 'precedingEvent', 'reaction'): 955},\n",
       "      metagraph=[('meshDescriptor', 'pathway'), ('pathway', 'reaction'), ('reaction', 'reaction')])"
      ]
     },
     "execution_count": 26,
     "metadata": {},
     "output_type": "execute_result"
    }
   ],
   "source": [
    "graph_data = {\n",
    "    ('meshDescriptor', 'hasEvent', 'pathway'): (src1, dis1),\n",
    "    ('pathway', 'hasEvent', 'reaction'): (src2, dis2),\n",
    "    ('reaction', 'precedingEvent', 'reaction'): (src3, dis3)\n",
    "}\n",
    "g = dgl.heterograph(graph_data)\n",
    "g"
   ]
  },
  {
   "cell_type": "code",
   "execution_count": null,
   "metadata": {},
   "outputs": [],
   "source": []
  }
 ],
 "metadata": {
  "kernelspec": {
   "display_name": "Python 3",
   "language": "python",
   "name": "python3"
  },
  "language_info": {
   "codemirror_mode": {
    "name": "ipython",
    "version": 3
   },
   "file_extension": ".py",
   "mimetype": "text/x-python",
   "name": "python",
   "nbconvert_exporter": "python",
   "pygments_lexer": "ipython3",
   "version": "3.6.5"
  }
 },
 "nbformat": 4,
 "nbformat_minor": 2
}
