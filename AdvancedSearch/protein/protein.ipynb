{
 "cells": [
  {
   "cell_type": "markdown",
   "metadata": {},
   "source": [
    "## This code is to select the physical entity related to CVD"
   ]
  },
  {
   "cell_type": "code",
   "execution_count": 1,
   "metadata": {},
   "outputs": [],
   "source": [
    "from neo4j import GraphDatabase\n",
    "import py2neo\n",
    "import pandas as pd\n",
    "import importlib\n",
    "import progressbar\n",
    "import numpy as np"
   ]
  },
  {
   "cell_type": "code",
   "execution_count": 2,
   "metadata": {},
   "outputs": [],
   "source": [
    "# Initialize connection to database\n",
    "driver = GraphDatabase.driver('bolt://localhost:7687', \n",
    "                              auth=('neo4j', '19992005zwj'), \n",
    "                              encrypted=False)"
   ]
  },
  {
   "cell_type": "markdown",
   "metadata": {},
   "source": [
    "## Reaction"
   ]
  },
  {
   "cell_type": "code",
   "execution_count": 3,
   "metadata": {},
   "outputs": [],
   "source": [
    "dic_reaction = np.load('./dicCVD_reaction_neo4j.npy', allow_pickle=True).item()"
   ]
  },
  {
   "cell_type": "code",
   "execution_count": 8,
   "metadata": {},
   "outputs": [],
   "source": [
    "pro_re = {}\n",
    "for i in dic_reaction:\n",
    "    temp = []\n",
    "    for j in dic_reaction[i]:\n",
    "        query = \"MATCH (n:Reaction) WHERE n.stId = '\" + j + \"' WITH n \"\\\n",
    "                \"MATCH (n:Reaction) -[r]-> (m:PhysicalEntity) RETURN m.name\"\n",
    "        with driver.session() as session:\n",
    "            info = session.run(query)\n",
    "            count = 0\n",
    "            for item in info:\n",
    "                temp.append(item.values())\n",
    "    pro_re[i] = temp    "
   ]
  },
  {
   "cell_type": "markdown",
   "metadata": {},
   "source": [
    "## Pathway"
   ]
  },
  {
   "cell_type": "code",
   "execution_count": 10,
   "metadata": {},
   "outputs": [],
   "source": [
    "dic_pathway = np.load('./dicCVD_pathway_neo4j.npy', allow_pickle=True).item()"
   ]
  },
  {
   "cell_type": "code",
   "execution_count": 11,
   "metadata": {},
   "outputs": [],
   "source": [
    "pro_pa = {}\n",
    "for i in dic_pathway:\n",
    "    temp = []\n",
    "    for j in dic_pathway[i]:\n",
    "        query = \"MATCH (n:Pathway) WHERE n.stId = '\" + j + \"' WITH n \"\\\n",
    "                \"MATCH (n:Pathway) -[r]-> (m:PhysicalEntity) RETURN m.name\"\n",
    "        with driver.session() as session:\n",
    "            info = session.run(query)\n",
    "            count = 0\n",
    "            for item in info:\n",
    "                temp.append(item.values())\n",
    "    pro_pa[i] = temp    "
   ]
  },
  {
   "cell_type": "code",
   "execution_count": null,
   "metadata": {},
   "outputs": [],
   "source": []
  }
 ],
 "metadata": {
  "kernelspec": {
   "display_name": "Python 3",
   "language": "python",
   "name": "python3"
  },
  "language_info": {
   "codemirror_mode": {
    "name": "ipython",
    "version": 3
   },
   "file_extension": ".py",
   "mimetype": "text/x-python",
   "name": "python",
   "nbconvert_exporter": "python",
   "pygments_lexer": "ipython3",
   "version": "3.6.5"
  }
 },
 "nbformat": 4,
 "nbformat_minor": 2
}
