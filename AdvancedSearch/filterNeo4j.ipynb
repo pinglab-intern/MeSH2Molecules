{
 "cells": [
  {
   "cell_type": "markdown",
   "metadata": {},
   "source": [
    "## This code was to select the pathway and reaction that are also in Neo4j graph database"
   ]
  },
  {
   "cell_type": "code",
   "execution_count": 2,
   "metadata": {},
   "outputs": [],
   "source": [
    "from neo4j import GraphDatabase\n",
    "import py2neo\n",
    "import pandas as pd\n",
    "import importlib\n",
    "import progressbar\n",
    "import numpy as np"
   ]
  },
  {
   "cell_type": "code",
   "execution_count": 3,
   "metadata": {},
   "outputs": [],
   "source": [
    "# Initialize connection to database\n",
    "driver = GraphDatabase.driver('bolt://localhost:7687', \n",
    "                              auth=('neo4j', '19992005zwj'), \n",
    "                              encrypted=False)"
   ]
  },
  {
   "cell_type": "markdown",
   "metadata": {},
   "source": [
    "## pathway"
   ]
  },
  {
   "cell_type": "code",
   "execution_count": 6,
   "metadata": {},
   "outputs": [],
   "source": [
    "dic_pathway = np.load('./dicCVD_pathway_filter.npy', allow_pickle=True).item()"
   ]
  },
  {
   "cell_type": "code",
   "execution_count": 7,
   "metadata": {},
   "outputs": [],
   "source": [
    "t = 0\n",
    "s = 0\n",
    "temp = dic_pathway.copy()\n",
    "for i in dic_pathway:\n",
    "    for j in dic_pathway[i]:\n",
    "        s += 1\n",
    "        query = \"MATCH (n:Pathway) WHERE n.stId = '\" + j + \"' RETURN n.stId\"\n",
    "        with driver.session() as session:\n",
    "            info = session.run(query)\n",
    "            count = 0\n",
    "            for item in info:\n",
    "                count += 1\n",
    "            if count == 0:\n",
    "                temp[i].remove(j)\n",
    "                t += 1"
   ]
  },
  {
   "cell_type": "code",
   "execution_count": 9,
   "metadata": {},
   "outputs": [],
   "source": [
    "np.save('dicCVD_pathway_neo4j.npy',temp)"
   ]
  },
  {
   "cell_type": "markdown",
   "metadata": {},
   "source": [
    "## Reaction"
   ]
  },
  {
   "cell_type": "code",
   "execution_count": 29,
   "metadata": {},
   "outputs": [],
   "source": [
    "dic_reaction = np.load('./dicCVD_reaction_filter.npy', allow_pickle=True).item()"
   ]
  },
  {
   "cell_type": "code",
   "execution_count": 30,
   "metadata": {},
   "outputs": [],
   "source": [
    "t = 0\n",
    "s = 0\n",
    "temp = dic_reaction.copy()\n",
    "for i in dic_reaction:\n",
    "    for j in dic_reaction[i]:\n",
    "        s += 1\n",
    "        query = \"MATCH (n:Reaction) WHERE n.stId = '\" + j + \"' RETURN n.stId\"\n",
    "        with driver.session() as session:\n",
    "            info = session.run(query)\n",
    "            count = 0\n",
    "            for item in info:\n",
    "                count += 1\n",
    "            if count == 0:\n",
    "                temp[i].remove(j)\n",
    "                t += 1"
   ]
  },
  {
   "cell_type": "code",
   "execution_count": 31,
   "metadata": {},
   "outputs": [
    {
     "name": "stdout",
     "output_type": "stream",
     "text": [
      "213\n",
      "638\n"
     ]
    }
   ],
   "source": [
    "print(t)\n",
    "print(s)"
   ]
  },
  {
   "cell_type": "code",
   "execution_count": 32,
   "metadata": {},
   "outputs": [],
   "source": [
    "np.save('dicCVD_reaction_neo4j.npy',temp)"
   ]
  }
 ],
 "metadata": {
  "kernelspec": {
   "display_name": "Python 3",
   "language": "python",
   "name": "python3"
  },
  "language_info": {
   "codemirror_mode": {
    "name": "ipython",
    "version": 3
   },
   "file_extension": ".py",
   "mimetype": "text/x-python",
   "name": "python",
   "nbconvert_exporter": "python",
   "pygments_lexer": "ipython3",
   "version": "3.6.5"
  }
 },
 "nbformat": 4,
 "nbformat_minor": 2
}
