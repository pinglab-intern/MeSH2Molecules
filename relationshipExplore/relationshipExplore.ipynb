{
 "cells": [
  {
   "cell_type": "markdown",
   "metadata": {},
   "source": [
    "#### This code is to explore the relationship between pathway from website and reaction in Neo4j"
   ]
  },
  {
   "cell_type": "code",
   "execution_count": 1,
   "metadata": {},
   "outputs": [],
   "source": [
    "from neo4j import GraphDatabase\n",
    "import py2neo\n",
    "import pandas as pd\n",
    "import importlib\n",
    "import progressbar\n",
    "import numpy as np"
   ]
  },
  {
   "cell_type": "code",
   "execution_count": 29,
   "metadata": {},
   "outputs": [],
   "source": [
    "# Initialize connection to database\n",
    "driver = GraphDatabase.driver('bolt://localhost:7687', \n",
    "                              auth=('neo4j', '19992005zwj'), \n",
    "                              encrypted=False)"
   ]
  },
  {
   "cell_type": "code",
   "execution_count": 55,
   "metadata": {},
   "outputs": [],
   "source": [
    "dic_pathway = np.load('./dicCVD_pathway_neo4j.npy', allow_pickle=True).item()"
   ]
  },
  {
   "cell_type": "markdown",
   "metadata": {},
   "source": [
    "### About pathway from website"
   ]
  },
  {
   "cell_type": "markdown",
   "metadata": {},
   "source": [
    "#### Relationship with reaction"
   ]
  },
  {
   "cell_type": "code",
   "execution_count": 56,
   "metadata": {},
   "outputs": [],
   "source": [
    "reac = []\n",
    "path_reac = {}\n",
    "for i in dic_pathway:\n",
    "    for j in dic_pathway[i]:\n",
    "        path_reac[j] = []\n",
    "        query = 'MATCH (n:Pathway) WHERE n.stId =\\'' + j +\\\n",
    "                '\\' WITH n MATCH (n:Pathway) -[r]- (m:ReactionLikeEvent) RETURN m.stId'\n",
    "        with driver.session() as session:\n",
    "            info = session.run(query)\n",
    "            for item in info:\n",
    "                path_reac[j].append(item.values()[0])\n",
    "                if item.values()[0] not in reac:\n",
    "                    reac.append(item.values()[0])\n",
    "                    "
   ]
  },
  {
   "cell_type": "code",
   "execution_count": 62,
   "metadata": {},
   "outputs": [
    {
     "data": {
      "text/plain": [
       "1277"
      ]
     },
     "execution_count": 62,
     "metadata": {},
     "output_type": "execute_result"
    }
   ],
   "source": [
    "stat = {}\n",
    "for i in path_reac:\n",
    "    for j in path_reac[i]:\n",
    "        temp = j\n",
    "        if temp not in stat:\n",
    "            stat[temp] = 1\n",
    "        else:\n",
    "            stat[temp] += 1\n",
    "len(stat)"
   ]
  },
  {
   "cell_type": "code",
   "execution_count": 63,
   "metadata": {},
   "outputs": [],
   "source": [
    "stat = pd.DataFrame.from_dict(stat, orient = 'index', columns=['numbers'])\n",
    "stat = stat.reset_index().rename(columns = {'index':'Name'})"
   ]
  },
  {
   "cell_type": "code",
   "execution_count": 64,
   "metadata": {},
   "outputs": [
    {
     "data": {
      "text/html": [
       "<div>\n",
       "<style scoped>\n",
       "    .dataframe tbody tr th:only-of-type {\n",
       "        vertical-align: middle;\n",
       "    }\n",
       "\n",
       "    .dataframe tbody tr th {\n",
       "        vertical-align: top;\n",
       "    }\n",
       "\n",
       "    .dataframe thead th {\n",
       "        text-align: right;\n",
       "    }\n",
       "</style>\n",
       "<table border=\"1\" class=\"dataframe\">\n",
       "  <thead>\n",
       "    <tr style=\"text-align: right;\">\n",
       "      <th></th>\n",
       "      <th>Name</th>\n",
       "      <th>numbers</th>\n",
       "    </tr>\n",
       "  </thead>\n",
       "  <tbody>\n",
       "    <tr>\n",
       "      <th>878</th>\n",
       "      <td>R-HSA-5693609</td>\n",
       "      <td>2</td>\n",
       "    </tr>\n",
       "    <tr>\n",
       "      <th>1107</th>\n",
       "      <td>R-HSA-3239014</td>\n",
       "      <td>2</td>\n",
       "    </tr>\n",
       "    <tr>\n",
       "      <th>906</th>\n",
       "      <td>R-HSA-266082</td>\n",
       "      <td>2</td>\n",
       "    </tr>\n",
       "    <tr>\n",
       "      <th>453</th>\n",
       "      <td>R-HSA-71682</td>\n",
       "      <td>2</td>\n",
       "    </tr>\n",
       "    <tr>\n",
       "      <th>296</th>\n",
       "      <td>R-HSA-9646295</td>\n",
       "      <td>2</td>\n",
       "    </tr>\n",
       "  </tbody>\n",
       "</table>\n",
       "</div>"
      ],
      "text/plain": [
       "               Name  numbers\n",
       "878   R-HSA-5693609        2\n",
       "1107  R-HSA-3239014        2\n",
       "906    R-HSA-266082        2\n",
       "453     R-HSA-71682        2\n",
       "296   R-HSA-9646295        2"
      ]
     },
     "execution_count": 64,
     "metadata": {},
     "output_type": "execute_result"
    }
   ],
   "source": [
    "stat.sort_values('numbers',ascending=False).head()"
   ]
  },
  {
   "cell_type": "code",
   "execution_count": 65,
   "metadata": {},
   "outputs": [],
   "source": [
    "stat.to_csv('./pathway_reaction.csv')"
   ]
  },
  {
   "cell_type": "markdown",
   "metadata": {},
   "source": [
    "#### Total number of reaction related to pathway in Neo4j"
   ]
  },
  {
   "cell_type": "code",
   "execution_count": 66,
   "metadata": {},
   "outputs": [
    {
     "data": {
      "text/plain": [
       "1277"
      ]
     },
     "execution_count": 66,
     "metadata": {},
     "output_type": "execute_result"
    }
   ],
   "source": [
    "len(reac)"
   ]
  },
  {
   "cell_type": "code",
   "execution_count": 67,
   "metadata": {},
   "outputs": [],
   "source": [
    "dic_reaction = np.load('./dicCVD_reaction_neo4j.npy', allow_pickle=True).item()"
   ]
  },
  {
   "cell_type": "code",
   "execution_count": 68,
   "metadata": {},
   "outputs": [],
   "source": [
    "tp = []\n",
    "for i in dic_reaction:\n",
    "    for j in dic_reaction[i]:\n",
    "        if j not in tp:\n",
    "            tp.append(j)"
   ]
  },
  {
   "cell_type": "markdown",
   "metadata": {},
   "source": [
    "#### Total number of reaction from website"
   ]
  },
  {
   "cell_type": "code",
   "execution_count": 69,
   "metadata": {},
   "outputs": [
    {
     "data": {
      "text/plain": [
       "384"
      ]
     },
     "execution_count": 69,
     "metadata": {},
     "output_type": "execute_result"
    }
   ],
   "source": [
    "len(tp)"
   ]
  },
  {
   "cell_type": "code",
   "execution_count": 70,
   "metadata": {},
   "outputs": [],
   "source": [
    "c = 0\n",
    "for i in reac:\n",
    "    if i in tp:\n",
    "        c += 1\n",
    "    "
   ]
  },
  {
   "cell_type": "markdown",
   "metadata": {},
   "source": [
    "#### The number of the overlapped reaction"
   ]
  },
  {
   "cell_type": "code",
   "execution_count": 71,
   "metadata": {},
   "outputs": [
    {
     "data": {
      "text/plain": [
       "124"
      ]
     },
     "execution_count": 71,
     "metadata": {},
     "output_type": "execute_result"
    }
   ],
   "source": [
    "c"
   ]
  },
  {
   "cell_type": "markdown",
   "metadata": {},
   "source": [
    "#### Relationship with Bioprocess"
   ]
  },
  {
   "cell_type": "code",
   "execution_count": 11,
   "metadata": {},
   "outputs": [],
   "source": [
    "process = []\n",
    "count = 0\n",
    "path_process = {}\n",
    "for i in dic_pathway:\n",
    "    for j in dic_pathway[i]:\n",
    "        path_process[j] = []\n",
    "        query = 'MATCH (n:Pathway) WHERE n.stId =\\'' + j +\\\n",
    "                '\\' WITH n MATCH (n:Pathway) -[r]- (m:GO_BiologicalProcess) RETURN m.displayName'\n",
    "        #print(query)\n",
    "        with driver.session() as session:\n",
    "            info = session.run(query)\n",
    "            for item in info:\n",
    "                path_process[j].append(item.values()[0])\n",
    "                count += 1"
   ]
  },
  {
   "cell_type": "code",
   "execution_count": 12,
   "metadata": {},
   "outputs": [
    {
     "data": {
      "text/plain": [
       "49"
      ]
     },
     "execution_count": 12,
     "metadata": {},
     "output_type": "execute_result"
    }
   ],
   "source": [
    "stat = {}\n",
    "for i in path_process:\n",
    "    for j in path_process[i]:\n",
    "        temp = j\n",
    "        if temp not in stat:\n",
    "            stat[temp] = 1\n",
    "        else:\n",
    "            stat[temp] += 1\n",
    "len(stat)"
   ]
  },
  {
   "cell_type": "code",
   "execution_count": 13,
   "metadata": {},
   "outputs": [],
   "source": [
    "stat = pd.DataFrame.from_dict(stat, orient = 'index', columns=['numbers'])\n",
    "stat = stat.reset_index().rename(columns = {'index':'Name'})"
   ]
  },
  {
   "cell_type": "code",
   "execution_count": 14,
   "metadata": {},
   "outputs": [
    {
     "data": {
      "text/html": [
       "<div>\n",
       "<style scoped>\n",
       "    .dataframe tbody tr th:only-of-type {\n",
       "        vertical-align: middle;\n",
       "    }\n",
       "\n",
       "    .dataframe tbody tr th {\n",
       "        vertical-align: top;\n",
       "    }\n",
       "\n",
       "    .dataframe thead th {\n",
       "        text-align: right;\n",
       "    }\n",
       "</style>\n",
       "<table border=\"1\" class=\"dataframe\">\n",
       "  <thead>\n",
       "    <tr style=\"text-align: right;\">\n",
       "      <th></th>\n",
       "      <th>Name</th>\n",
       "      <th>numbers</th>\n",
       "    </tr>\n",
       "  </thead>\n",
       "  <tbody>\n",
       "    <tr>\n",
       "      <th>10</th>\n",
       "      <td>Notch signaling pathway</td>\n",
       "      <td>3</td>\n",
       "    </tr>\n",
       "    <tr>\n",
       "      <th>1</th>\n",
       "      <td>long-chain fatty acid biosynthetic process</td>\n",
       "      <td>2</td>\n",
       "    </tr>\n",
       "    <tr>\n",
       "      <th>9</th>\n",
       "      <td>regulation of transcription by RNA polymerase II</td>\n",
       "      <td>2</td>\n",
       "    </tr>\n",
       "    <tr>\n",
       "      <th>0</th>\n",
       "      <td>cellular response to cytokine stimulus</td>\n",
       "      <td>1</td>\n",
       "    </tr>\n",
       "    <tr>\n",
       "      <th>37</th>\n",
       "      <td>cellular response to stress</td>\n",
       "      <td>1</td>\n",
       "    </tr>\n",
       "  </tbody>\n",
       "</table>\n",
       "</div>"
      ],
      "text/plain": [
       "                                                Name  numbers\n",
       "10                           Notch signaling pathway        3\n",
       "1         long-chain fatty acid biosynthetic process        2\n",
       "9   regulation of transcription by RNA polymerase II        2\n",
       "0             cellular response to cytokine stimulus        1\n",
       "37                       cellular response to stress        1"
      ]
     },
     "execution_count": 14,
     "metadata": {},
     "output_type": "execute_result"
    }
   ],
   "source": [
    "stat.sort_values('numbers',ascending=False).head()"
   ]
  },
  {
   "cell_type": "markdown",
   "metadata": {},
   "source": [
    "#### Relationship with CellularComponet"
   ]
  },
  {
   "cell_type": "code",
   "execution_count": 15,
   "metadata": {},
   "outputs": [],
   "source": [
    "count = 0\n",
    "path_cell = {}\n",
    "for i in dic_pathway:\n",
    "    for j in dic_pathway[i]:\n",
    "        path_cell[j] = []\n",
    "        query = 'MATCH (n:Pathway) WHERE n.stId =\\'' + j +\\\n",
    "                '\\' WITH n MATCH (n:Pathway) -[r]- (m:GO_CellularComponent) RETURN m.displayName'\n",
    "        #print(query)\n",
    "        with driver.session() as session:\n",
    "            info = session.run(query)\n",
    "            for item in info:\n",
    "                path_cell[j].append(item.values()[0])\n",
    "                count += 1"
   ]
  },
  {
   "cell_type": "code",
   "execution_count": 16,
   "metadata": {},
   "outputs": [
    {
     "data": {
      "text/plain": [
       "12"
      ]
     },
     "execution_count": 16,
     "metadata": {},
     "output_type": "execute_result"
    }
   ],
   "source": [
    "stat = {}\n",
    "for i in path_cell:\n",
    "    for j in path_cell[i]:\n",
    "        temp = j\n",
    "        if temp not in stat:\n",
    "            stat[temp] = 1\n",
    "        else:\n",
    "            stat[temp] += 1\n",
    "len(stat)"
   ]
  },
  {
   "cell_type": "code",
   "execution_count": 17,
   "metadata": {},
   "outputs": [],
   "source": [
    "stat = pd.DataFrame.from_dict(stat, orient = 'index', columns=['numbers'])\n",
    "stat = stat.reset_index().rename(columns = {'index':'Name'})"
   ]
  },
  {
   "cell_type": "code",
   "execution_count": 18,
   "metadata": {},
   "outputs": [
    {
     "data": {
      "text/html": [
       "<div>\n",
       "<style scoped>\n",
       "    .dataframe tbody tr th:only-of-type {\n",
       "        vertical-align: middle;\n",
       "    }\n",
       "\n",
       "    .dataframe tbody tr th {\n",
       "        vertical-align: top;\n",
       "    }\n",
       "\n",
       "    .dataframe thead th {\n",
       "        text-align: right;\n",
       "    }\n",
       "</style>\n",
       "<table border=\"1\" class=\"dataframe\">\n",
       "  <thead>\n",
       "    <tr style=\"text-align: right;\">\n",
       "      <th></th>\n",
       "      <th>Name</th>\n",
       "      <th>numbers</th>\n",
       "    </tr>\n",
       "  </thead>\n",
       "  <tbody>\n",
       "    <tr>\n",
       "      <th>2</th>\n",
       "      <td>cytosol</td>\n",
       "      <td>23</td>\n",
       "    </tr>\n",
       "    <tr>\n",
       "      <th>0</th>\n",
       "      <td>plasma membrane</td>\n",
       "      <td>17</td>\n",
       "    </tr>\n",
       "    <tr>\n",
       "      <th>3</th>\n",
       "      <td>nucleoplasm</td>\n",
       "      <td>17</td>\n",
       "    </tr>\n",
       "    <tr>\n",
       "      <th>1</th>\n",
       "      <td>extracellular region</td>\n",
       "      <td>13</td>\n",
       "    </tr>\n",
       "    <tr>\n",
       "      <th>4</th>\n",
       "      <td>endoplasmic reticulum membrane</td>\n",
       "      <td>3</td>\n",
       "    </tr>\n",
       "  </tbody>\n",
       "</table>\n",
       "</div>"
      ],
      "text/plain": [
       "                             Name  numbers\n",
       "2                         cytosol       23\n",
       "0                 plasma membrane       17\n",
       "3                     nucleoplasm       17\n",
       "1            extracellular region       13\n",
       "4  endoplasmic reticulum membrane        3"
      ]
     },
     "execution_count": 18,
     "metadata": {},
     "output_type": "execute_result"
    }
   ],
   "source": [
    "stat.sort_values('numbers',ascending=False).head()"
   ]
  },
  {
   "cell_type": "markdown",
   "metadata": {},
   "source": [
    "#### Relationship with Diseases"
   ]
  },
  {
   "cell_type": "code",
   "execution_count": 19,
   "metadata": {},
   "outputs": [],
   "source": [
    "dis = []\n",
    "count = 0\n",
    "path_dis = {}\n",
    "for i in dic_pathway:\n",
    "    for j in dic_pathway[i]:\n",
    "        path_dis[j] = []\n",
    "        query = 'MATCH (n:Pathway) WHERE n.stId =\\'' + j +\\\n",
    "                '\\' WITH n MATCH (n:Pathway) -[r]- (m:Disease) RETURN m.displayName'\n",
    "        #print(query)\n",
    "        with driver.session() as session:\n",
    "            info = session.run(query)\n",
    "            for item in info:\n",
    "                path_dis[j].append(item.values()[0])\n",
    "                count += 1"
   ]
  },
  {
   "cell_type": "code",
   "execution_count": 20,
   "metadata": {},
   "outputs": [
    {
     "data": {
      "text/plain": [
       "64"
      ]
     },
     "execution_count": 20,
     "metadata": {},
     "output_type": "execute_result"
    }
   ],
   "source": [
    "stat = {}\n",
    "for i in path_dis:\n",
    "    for j in path_dis[i]:\n",
    "        temp = j\n",
    "        if temp not in stat:\n",
    "            stat[temp] = 1\n",
    "        else:\n",
    "            stat[temp] += 1\n",
    "len(stat)"
   ]
  },
  {
   "cell_type": "code",
   "execution_count": 21,
   "metadata": {},
   "outputs": [],
   "source": [
    "stat = pd.DataFrame.from_dict(stat, orient = 'index', columns=['numbers'])\n",
    "stat = stat.reset_index().rename(columns = {'index':'Name'})"
   ]
  },
  {
   "cell_type": "code",
   "execution_count": 22,
   "metadata": {},
   "outputs": [
    {
     "data": {
      "text/html": [
       "<div>\n",
       "<style scoped>\n",
       "    .dataframe tbody tr th:only-of-type {\n",
       "        vertical-align: middle;\n",
       "    }\n",
       "\n",
       "    .dataframe tbody tr th {\n",
       "        vertical-align: top;\n",
       "    }\n",
       "\n",
       "    .dataframe thead th {\n",
       "        text-align: right;\n",
       "    }\n",
       "</style>\n",
       "<table border=\"1\" class=\"dataframe\">\n",
       "  <thead>\n",
       "    <tr style=\"text-align: right;\">\n",
       "      <th></th>\n",
       "      <th>Name</th>\n",
       "      <th>numbers</th>\n",
       "    </tr>\n",
       "  </thead>\n",
       "  <tbody>\n",
       "    <tr>\n",
       "      <th>15</th>\n",
       "      <td>cancer</td>\n",
       "      <td>21</td>\n",
       "    </tr>\n",
       "    <tr>\n",
       "      <th>17</th>\n",
       "      <td>bone development disease</td>\n",
       "      <td>7</td>\n",
       "    </tr>\n",
       "    <tr>\n",
       "      <th>22</th>\n",
       "      <td>primary immunodeficiency disease</td>\n",
       "      <td>6</td>\n",
       "    </tr>\n",
       "    <tr>\n",
       "      <th>56</th>\n",
       "      <td>Ehlers-Danlos syndrome</td>\n",
       "      <td>3</td>\n",
       "    </tr>\n",
       "    <tr>\n",
       "      <th>40</th>\n",
       "      <td>renal tubular acidosis</td>\n",
       "      <td>2</td>\n",
       "    </tr>\n",
       "  </tbody>\n",
       "</table>\n",
       "</div>"
      ],
      "text/plain": [
       "                                Name  numbers\n",
       "15                            cancer       21\n",
       "17          bone development disease        7\n",
       "22  primary immunodeficiency disease        6\n",
       "56            Ehlers-Danlos syndrome        3\n",
       "40            renal tubular acidosis        2"
      ]
     },
     "execution_count": 22,
     "metadata": {},
     "output_type": "execute_result"
    }
   ],
   "source": [
    "stat.sort_values('numbers',ascending=False).head()"
   ]
  },
  {
   "cell_type": "markdown",
   "metadata": {},
   "source": [
    "#### Relationship with Protein"
   ]
  },
  {
   "cell_type": "code",
   "execution_count": 44,
   "metadata": {},
   "outputs": [],
   "source": [
    "pro = []\n",
    "count = 0\n",
    "path_pro = {}\n",
    "for i in dic_pathway:\n",
    "    for j in dic_pathway[i]:\n",
    "        path_pro[j] = []\n",
    "        query = 'MATCH (n:Pathway) WHERE n.stId =\\'' + j +\\\n",
    "                '\\' WITH n MATCH (n:Pathway) -[r]- (m:ReferenceEntity) RETURN m.displayName'\n",
    "        #print(query)\n",
    "        with driver.session() as session:\n",
    "            info = session.run(query)\n",
    "            for item in info:\n",
    "                path_pro[j].append(item.values()[0])\n",
    "                count += 1"
   ]
  },
  {
   "cell_type": "code",
   "execution_count": 45,
   "metadata": {},
   "outputs": [
    {
     "data": {
      "text/plain": [
       "0"
      ]
     },
     "execution_count": 45,
     "metadata": {},
     "output_type": "execute_result"
    }
   ],
   "source": [
    "stat = {}\n",
    "for i in path_pro:\n",
    "    for j in path_pro[i]:\n",
    "        temp = j\n",
    "        if temp not in stat:\n",
    "            stat[temp] = 1\n",
    "        else:\n",
    "            stat[temp] += 1\n",
    "len(stat)"
   ]
  },
  {
   "cell_type": "markdown",
   "metadata": {},
   "source": [
    "### About reaction from website"
   ]
  },
  {
   "cell_type": "markdown",
   "metadata": {},
   "source": [
    "#### relationship with pathway"
   ]
  },
  {
   "cell_type": "code",
   "execution_count": 23,
   "metadata": {},
   "outputs": [
    {
     "data": {
      "text/plain": [
       "200"
      ]
     },
     "execution_count": 23,
     "metadata": {},
     "output_type": "execute_result"
    }
   ],
   "source": [
    "path = []\n",
    "for i in dic_reaction:\n",
    "    for j in dic_reaction[i]:\n",
    "        query = 'MATCH (n:Reaction) WHERE n.stId =\\'' + j +\\\n",
    "                '\\' WITH n MATCH (n) -[r]- (m:Pathway) RETURN m.stId'\n",
    "        with driver.session() as session:\n",
    "            info = session.run(query)\n",
    "            for item in info:\n",
    "                #print(item.values())\n",
    "                if item.values()[0] not in path:\n",
    "                    path.append(item.values()[0])\n",
    "\n",
    "len(path)"
   ]
  },
  {
   "cell_type": "code",
   "execution_count": 24,
   "metadata": {},
   "outputs": [],
   "source": [
    "tp = []\n",
    "for i in dic_pathway:\n",
    "    for j in dic_pathway[i]:\n",
    "        if j not in tp:\n",
    "            tp.append(j)"
   ]
  },
  {
   "cell_type": "code",
   "execution_count": 25,
   "metadata": {},
   "outputs": [
    {
     "data": {
      "text/plain": [
       "209"
      ]
     },
     "execution_count": 25,
     "metadata": {},
     "output_type": "execute_result"
    }
   ],
   "source": [
    "len(tp)"
   ]
  },
  {
   "cell_type": "code",
   "execution_count": 26,
   "metadata": {},
   "outputs": [],
   "source": [
    "c = 0\n",
    "for i in path:\n",
    "    if i in tp:\n",
    "        c += 1"
   ]
  },
  {
   "cell_type": "markdown",
   "metadata": {},
   "source": [
    "#### The number of the overlapped pathway"
   ]
  },
  {
   "cell_type": "code",
   "execution_count": 27,
   "metadata": {},
   "outputs": [
    {
     "data": {
      "text/plain": [
       "46"
      ]
     },
     "execution_count": 27,
     "metadata": {},
     "output_type": "execute_result"
    }
   ],
   "source": [
    "c"
   ]
  }
 ],
 "metadata": {
  "kernelspec": {
   "display_name": "Python 3",
   "language": "python",
   "name": "python3"
  },
  "language_info": {
   "codemirror_mode": {
    "name": "ipython",
    "version": 3
   },
   "file_extension": ".py",
   "mimetype": "text/x-python",
   "name": "python",
   "nbconvert_exporter": "python",
   "pygments_lexer": "ipython3",
   "version": "3.6.5"
  }
 },
 "nbformat": 4,
 "nbformat_minor": 2
}
